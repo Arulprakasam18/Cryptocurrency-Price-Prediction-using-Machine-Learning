{
  "nbformat": 4,
  "nbformat_minor": 0,
  "metadata": {
    "colab": {
      "name": "AppleStockAnalysis.ipynb",
      "provenance": [],
      "collapsed_sections": [],
      "include_colab_link": true
    },
    "kernelspec": {
      "name": "python3",
      "display_name": "Python 3"
    }
  },
  "cells": [
    {
      "cell_type": "markdown",
      "metadata": {
        "id": "view-in-github",
        "colab_type": "text"
      },
      "source": [
        "<a href=\"https://colab.research.google.com/github/manthanthakker/BitcoinPrediction/blob/master/AppleStockAnalysis.ipynb\" target=\"_parent\"><img src=\"https://colab.research.google.com/assets/colab-badge.svg\" alt=\"Open In Colab\"/></a>"
      ]
    },
    {
      "cell_type": "markdown",
      "metadata": {
        "id": "8yDlnoA-xbTy",
        "colab_type": "text"
      },
      "source": [
        "# Apple Stock prediction Recurrent Neural Network\n",
        "\n",
        "Please Note, this notebook is only for exploration purpose and is meant to explore application of LSTMs into financial markets. Please don't trade or make decisions based on these analysis. "
      ]
    },
    {
      "cell_type": "code",
      "metadata": {
        "id": "NEG0TzxOShBM",
        "colab_type": "code",
        "colab": {}
      },
      "source": [
        "!pip install yfinance\n",
        "!conda install -c pytorch pytorch-nightly-cpu -y \n",
        "!conda install -c fastai torchvision-nightly-cpu -y \n",
        "!conda install -c fastai fastai -y \n",
        "!pip install tensorflow\n",
        "!pip install fastai\n",
        "!conda install nb_conda -y\n",
        "!pip install dataclasses\n",
        "!pip install fastai==0.7.0\n",
        "!pip install keras\n",
        "!pip install --upgrade pip\n",
        "!conda remove seaborn -y\n",
        "!pip uninstall seaborn \n",
        "!pip3 --no-cache-dir install seaborn "
      ],
      "execution_count": 0,
      "outputs": []
    },
    {
      "cell_type": "code",
      "metadata": {
        "id": "1YjrU5aqSiIr",
        "colab_type": "code",
        "colab": {
          "base_uri": "https://localhost:8080/",
          "height": 34
        },
        "outputId": "9ed3e1fe-9864-4742-849b-542d13275169"
      },
      "source": [
        "import yfinance as yf\n",
        "import matplotlib.pyplot as plt\n",
        "import numpy as np\n",
        "import pandas as pd\n",
        "import seaborn; seaborn.set()\n",
        "import datetime\n",
        "import pandas as pd\n",
        "from keras.models import Sequential\n",
        "from keras.layers import Dense, Activation\n",
        "import seaborn as sns\n",
        "sns.set()\n",
        "%load_ext autoreload\n",
        "%autoreload 2\n",
        "%matplotlib inline\n",
        "from fastai.imports import *\n",
        "from fastai.structured import *\n",
        "from pandas_summary import DataFrameSummary\n",
        "from sklearn.ensemble import RandomForestRegressor, RandomForestClassifier\n",
        "from IPython.display import display\n",
        "from sklearn import metrics"
      ],
      "execution_count": 85,
      "outputs": [
        {
          "output_type": "stream",
          "text": [
            "Using TensorFlow backend.\n"
          ],
          "name": "stderr"
        }
      ]
    },
    {
      "cell_type": "markdown",
      "metadata": {
        "id": "MBPNT_XqZIcj",
        "colab_type": "text"
      },
      "source": [
        "### We will do this in 2 steps:\n",
        "\n",
        "\n",
        "1.   Fundamental analysis using Yahoo Finance API\n",
        "2.   Applying Recurrent Neural Network\n",
        "\n"
      ]
    },
    {
      "cell_type": "markdown",
      "metadata": {
        "id": "F1mFDySKydB1",
        "colab_type": "text"
      },
      "source": [
        "## Fundamental analysis"
      ]
    },
    {
      "cell_type": "code",
      "metadata": {
        "id": "5Tssn1a4Wz_9",
        "colab_type": "code",
        "outputId": "754fdb1c-6851-4efd-9f93-a9f0240ff51e",
        "colab": {
          "base_uri": "https://localhost:8080/",
          "height": 1000
        }
      },
      "source": [
        "apple=yf.Ticker(\"AAPL\")\n",
        "pd.DataFrame(list(apple.info.items()))\n",
        "#print(apple.actions)"
      ],
      "execution_count": 86,
      "outputs": [
        {
          "output_type": "execute_result",
          "data": {
            "text/html": [
              "<div>\n",
              "<style scoped>\n",
              "    .dataframe tbody tr th:only-of-type {\n",
              "        vertical-align: middle;\n",
              "    }\n",
              "\n",
              "    .dataframe tbody tr th {\n",
              "        vertical-align: top;\n",
              "    }\n",
              "\n",
              "    .dataframe thead th {\n",
              "        text-align: right;\n",
              "    }\n",
              "</style>\n",
              "<table border=\"1\" class=\"dataframe\">\n",
              "  <thead>\n",
              "    <tr style=\"text-align: right;\">\n",
              "      <th></th>\n",
              "      <th>0</th>\n",
              "      <th>1</th>\n",
              "    </tr>\n",
              "  </thead>\n",
              "  <tbody>\n",
              "    <tr>\n",
              "      <th>0</th>\n",
              "      <td>language</td>\n",
              "      <td>en-US</td>\n",
              "    </tr>\n",
              "    <tr>\n",
              "      <th>1</th>\n",
              "      <td>region</td>\n",
              "      <td>US</td>\n",
              "    </tr>\n",
              "    <tr>\n",
              "      <th>2</th>\n",
              "      <td>quoteType</td>\n",
              "      <td>EQUITY</td>\n",
              "    </tr>\n",
              "    <tr>\n",
              "      <th>3</th>\n",
              "      <td>quoteSourceName</td>\n",
              "      <td>Delayed Quote</td>\n",
              "    </tr>\n",
              "    <tr>\n",
              "      <th>4</th>\n",
              "      <td>currency</td>\n",
              "      <td>USD</td>\n",
              "    </tr>\n",
              "    <tr>\n",
              "      <th>5</th>\n",
              "      <td>priceHint</td>\n",
              "      <td>2</td>\n",
              "    </tr>\n",
              "    <tr>\n",
              "      <th>6</th>\n",
              "      <td>shortName</td>\n",
              "      <td>Apple Inc.</td>\n",
              "    </tr>\n",
              "    <tr>\n",
              "      <th>7</th>\n",
              "      <td>market</td>\n",
              "      <td>us_market</td>\n",
              "    </tr>\n",
              "    <tr>\n",
              "      <th>8</th>\n",
              "      <td>regularMarketPrice</td>\n",
              "      <td>236.41</td>\n",
              "    </tr>\n",
              "    <tr>\n",
              "      <th>9</th>\n",
              "      <td>regularMarketTime</td>\n",
              "      <td>1571428801</td>\n",
              "    </tr>\n",
              "    <tr>\n",
              "      <th>10</th>\n",
              "      <td>regularMarketChange</td>\n",
              "      <td>1.13</td>\n",
              "    </tr>\n",
              "    <tr>\n",
              "      <th>11</th>\n",
              "      <td>regularMarketOpen</td>\n",
              "      <td>234.59</td>\n",
              "    </tr>\n",
              "    <tr>\n",
              "      <th>12</th>\n",
              "      <td>regularMarketDayHigh</td>\n",
              "      <td>237.58</td>\n",
              "    </tr>\n",
              "    <tr>\n",
              "      <th>13</th>\n",
              "      <td>regularMarketDayLow</td>\n",
              "      <td>234.29</td>\n",
              "    </tr>\n",
              "    <tr>\n",
              "      <th>14</th>\n",
              "      <td>regularMarketVolume</td>\n",
              "      <td>21772221</td>\n",
              "    </tr>\n",
              "    <tr>\n",
              "      <th>15</th>\n",
              "      <td>exchangeDataDelayedBy</td>\n",
              "      <td>0</td>\n",
              "    </tr>\n",
              "    <tr>\n",
              "      <th>16</th>\n",
              "      <td>marketState</td>\n",
              "      <td>CLOSED</td>\n",
              "    </tr>\n",
              "    <tr>\n",
              "      <th>17</th>\n",
              "      <td>exchange</td>\n",
              "      <td>NMS</td>\n",
              "    </tr>\n",
              "    <tr>\n",
              "      <th>18</th>\n",
              "      <td>twoHundredDayAverageChangePercent</td>\n",
              "      <td>0.153417</td>\n",
              "    </tr>\n",
              "    <tr>\n",
              "      <th>19</th>\n",
              "      <td>marketCap</td>\n",
              "      <td>1068384059392</td>\n",
              "    </tr>\n",
              "    <tr>\n",
              "      <th>20</th>\n",
              "      <td>forwardPE</td>\n",
              "      <td>18.5274</td>\n",
              "    </tr>\n",
              "    <tr>\n",
              "      <th>21</th>\n",
              "      <td>priceToBook</td>\n",
              "      <td>11.1064</td>\n",
              "    </tr>\n",
              "    <tr>\n",
              "      <th>22</th>\n",
              "      <td>sourceInterval</td>\n",
              "      <td>15</td>\n",
              "    </tr>\n",
              "    <tr>\n",
              "      <th>23</th>\n",
              "      <td>exchangeTimezoneName</td>\n",
              "      <td>America/New_York</td>\n",
              "    </tr>\n",
              "    <tr>\n",
              "      <th>24</th>\n",
              "      <td>exchangeTimezoneShortName</td>\n",
              "      <td>EDT</td>\n",
              "    </tr>\n",
              "    <tr>\n",
              "      <th>25</th>\n",
              "      <td>gmtOffSetMilliseconds</td>\n",
              "      <td>-14400000</td>\n",
              "    </tr>\n",
              "    <tr>\n",
              "      <th>26</th>\n",
              "      <td>esgPopulated</td>\n",
              "      <td>False</td>\n",
              "    </tr>\n",
              "    <tr>\n",
              "      <th>27</th>\n",
              "      <td>tradeable</td>\n",
              "      <td>True</td>\n",
              "    </tr>\n",
              "    <tr>\n",
              "      <th>28</th>\n",
              "      <td>triggerable</td>\n",
              "      <td>True</td>\n",
              "    </tr>\n",
              "    <tr>\n",
              "      <th>29</th>\n",
              "      <td>messageBoardId</td>\n",
              "      <td>finmb_24937</td>\n",
              "    </tr>\n",
              "    <tr>\n",
              "      <th>...</th>\n",
              "      <td>...</td>\n",
              "      <td>...</td>\n",
              "    </tr>\n",
              "    <tr>\n",
              "      <th>40</th>\n",
              "      <td>financialCurrency</td>\n",
              "      <td>USD</td>\n",
              "    </tr>\n",
              "    <tr>\n",
              "      <th>41</th>\n",
              "      <td>postMarketPrice</td>\n",
              "      <td>236.21</td>\n",
              "    </tr>\n",
              "    <tr>\n",
              "      <th>42</th>\n",
              "      <td>postMarketChange</td>\n",
              "      <td>-0.199997</td>\n",
              "    </tr>\n",
              "    <tr>\n",
              "      <th>43</th>\n",
              "      <td>regularMarketChangePercent</td>\n",
              "      <td>0.480281</td>\n",
              "    </tr>\n",
              "    <tr>\n",
              "      <th>44</th>\n",
              "      <td>regularMarketDayRange</td>\n",
              "      <td>234.29 - 237.58</td>\n",
              "    </tr>\n",
              "    <tr>\n",
              "      <th>45</th>\n",
              "      <td>bid</td>\n",
              "      <td>236.21</td>\n",
              "    </tr>\n",
              "    <tr>\n",
              "      <th>46</th>\n",
              "      <td>ask</td>\n",
              "      <td>236.37</td>\n",
              "    </tr>\n",
              "    <tr>\n",
              "      <th>47</th>\n",
              "      <td>bidSize</td>\n",
              "      <td>14</td>\n",
              "    </tr>\n",
              "    <tr>\n",
              "      <th>48</th>\n",
              "      <td>askSize</td>\n",
              "      <td>9</td>\n",
              "    </tr>\n",
              "    <tr>\n",
              "      <th>49</th>\n",
              "      <td>trailingAnnualDividendRate</td>\n",
              "      <td>2.96</td>\n",
              "    </tr>\n",
              "    <tr>\n",
              "      <th>50</th>\n",
              "      <td>trailingAnnualDividendYield</td>\n",
              "      <td>0.0125808</td>\n",
              "    </tr>\n",
              "    <tr>\n",
              "      <th>51</th>\n",
              "      <td>epsTrailingTwelveMonths</td>\n",
              "      <td>11.777</td>\n",
              "    </tr>\n",
              "    <tr>\n",
              "      <th>52</th>\n",
              "      <td>epsForward</td>\n",
              "      <td>12.76</td>\n",
              "    </tr>\n",
              "    <tr>\n",
              "      <th>53</th>\n",
              "      <td>fullExchangeName</td>\n",
              "      <td>NasdaqGS</td>\n",
              "    </tr>\n",
              "    <tr>\n",
              "      <th>54</th>\n",
              "      <td>longName</td>\n",
              "      <td>Apple Inc.</td>\n",
              "    </tr>\n",
              "    <tr>\n",
              "      <th>55</th>\n",
              "      <td>averageDailyVolume3Month</td>\n",
              "      <td>28456101</td>\n",
              "    </tr>\n",
              "    <tr>\n",
              "      <th>56</th>\n",
              "      <td>averageDailyVolume10Day</td>\n",
              "      <td>25089957</td>\n",
              "    </tr>\n",
              "    <tr>\n",
              "      <th>57</th>\n",
              "      <td>fiftyTwoWeekLowChange</td>\n",
              "      <td>94.41</td>\n",
              "    </tr>\n",
              "    <tr>\n",
              "      <th>58</th>\n",
              "      <td>fiftyTwoWeekLowChangePercent</td>\n",
              "      <td>0.664859</td>\n",
              "    </tr>\n",
              "    <tr>\n",
              "      <th>59</th>\n",
              "      <td>fiftyTwoWeekRange</td>\n",
              "      <td>142.0 - 238.13</td>\n",
              "    </tr>\n",
              "    <tr>\n",
              "      <th>60</th>\n",
              "      <td>fiftyTwoWeekHighChange</td>\n",
              "      <td>-1.72</td>\n",
              "    </tr>\n",
              "    <tr>\n",
              "      <th>61</th>\n",
              "      <td>fiftyTwoWeekHighChangePercent</td>\n",
              "      <td>-0.00722295</td>\n",
              "    </tr>\n",
              "    <tr>\n",
              "      <th>62</th>\n",
              "      <td>fiftyTwoWeekLow</td>\n",
              "      <td>142</td>\n",
              "    </tr>\n",
              "    <tr>\n",
              "      <th>63</th>\n",
              "      <td>fiftyTwoWeekHigh</td>\n",
              "      <td>238.13</td>\n",
              "    </tr>\n",
              "    <tr>\n",
              "      <th>64</th>\n",
              "      <td>dividendDate</td>\n",
              "      <td>1565827200</td>\n",
              "    </tr>\n",
              "    <tr>\n",
              "      <th>65</th>\n",
              "      <td>earningsTimestamp</td>\n",
              "      <td>1572480000</td>\n",
              "    </tr>\n",
              "    <tr>\n",
              "      <th>66</th>\n",
              "      <td>earningsTimestampStart</td>\n",
              "      <td>1572480000</td>\n",
              "    </tr>\n",
              "    <tr>\n",
              "      <th>67</th>\n",
              "      <td>earningsTimestampEnd</td>\n",
              "      <td>1572480000</td>\n",
              "    </tr>\n",
              "    <tr>\n",
              "      <th>68</th>\n",
              "      <td>trailingPE</td>\n",
              "      <td>20.0739</td>\n",
              "    </tr>\n",
              "    <tr>\n",
              "      <th>69</th>\n",
              "      <td>symbol</td>\n",
              "      <td>AAPL</td>\n",
              "    </tr>\n",
              "  </tbody>\n",
              "</table>\n",
              "<p>70 rows × 2 columns</p>\n",
              "</div>"
            ],
            "text/plain": [
              "                                    0                 1\n",
              "0                            language             en-US\n",
              "1                              region                US\n",
              "2                           quoteType            EQUITY\n",
              "3                     quoteSourceName     Delayed Quote\n",
              "4                            currency               USD\n",
              "5                           priceHint                 2\n",
              "6                           shortName        Apple Inc.\n",
              "7                              market         us_market\n",
              "8                  regularMarketPrice            236.41\n",
              "9                   regularMarketTime        1571428801\n",
              "10                regularMarketChange              1.13\n",
              "11                  regularMarketOpen            234.59\n",
              "12               regularMarketDayHigh            237.58\n",
              "13                regularMarketDayLow            234.29\n",
              "14                regularMarketVolume          21772221\n",
              "15              exchangeDataDelayedBy                 0\n",
              "16                        marketState            CLOSED\n",
              "17                           exchange               NMS\n",
              "18  twoHundredDayAverageChangePercent          0.153417\n",
              "19                          marketCap     1068384059392\n",
              "20                          forwardPE           18.5274\n",
              "21                        priceToBook           11.1064\n",
              "22                     sourceInterval                15\n",
              "23               exchangeTimezoneName  America/New_York\n",
              "24          exchangeTimezoneShortName               EDT\n",
              "25              gmtOffSetMilliseconds         -14400000\n",
              "26                       esgPopulated             False\n",
              "27                          tradeable              True\n",
              "28                        triggerable              True\n",
              "29                     messageBoardId       finmb_24937\n",
              "..                                ...               ...\n",
              "40                  financialCurrency               USD\n",
              "41                    postMarketPrice            236.21\n",
              "42                   postMarketChange         -0.199997\n",
              "43         regularMarketChangePercent          0.480281\n",
              "44              regularMarketDayRange   234.29 - 237.58\n",
              "45                                bid            236.21\n",
              "46                                ask            236.37\n",
              "47                            bidSize                14\n",
              "48                            askSize                 9\n",
              "49         trailingAnnualDividendRate              2.96\n",
              "50        trailingAnnualDividendYield         0.0125808\n",
              "51            epsTrailingTwelveMonths            11.777\n",
              "52                         epsForward             12.76\n",
              "53                   fullExchangeName          NasdaqGS\n",
              "54                           longName        Apple Inc.\n",
              "55           averageDailyVolume3Month          28456101\n",
              "56            averageDailyVolume10Day          25089957\n",
              "57              fiftyTwoWeekLowChange             94.41\n",
              "58       fiftyTwoWeekLowChangePercent          0.664859\n",
              "59                  fiftyTwoWeekRange    142.0 - 238.13\n",
              "60             fiftyTwoWeekHighChange             -1.72\n",
              "61      fiftyTwoWeekHighChangePercent       -0.00722295\n",
              "62                    fiftyTwoWeekLow               142\n",
              "63                   fiftyTwoWeekHigh            238.13\n",
              "64                       dividendDate        1565827200\n",
              "65                  earningsTimestamp        1572480000\n",
              "66             earningsTimestampStart        1572480000\n",
              "67               earningsTimestampEnd        1572480000\n",
              "68                         trailingPE           20.0739\n",
              "69                             symbol              AAPL\n",
              "\n",
              "[70 rows x 2 columns]"
            ]
          },
          "metadata": {
            "tags": []
          },
          "execution_count": 86
        }
      ]
    },
    {
      "cell_type": "markdown",
      "metadata": {
        "id": "YKh9oWzubCfv",
        "colab_type": "text"
      },
      "source": [
        "So two important things, price of the stock is **236 dollars**. The regular market change is **234.29 - 237.58**. So If one is enter to buy apple stock once can target for 234 $ for that day.\n",
        "Looking at the 52 week range: **142.0 - 238.13**, the stock is very volatile and looks inflated at this price and can likely go back down. The fifty day average is **222.745**, so may be one **should wait** to drop a bit and then buy. "
      ]
    },
    {
      "cell_type": "code",
      "metadata": {
        "id": "xbHH847Pcklp",
        "colab_type": "code",
        "outputId": "f2cc65c0-8c5a-48da-dbbd-2b86754d5e08",
        "colab": {
          "base_uri": "https://localhost:8080/",
          "height": 187
        }
      },
      "source": [
        "print('Total Dividends:')\n",
        "print(apple.actions['Dividends'].sum())\n",
        "\n",
        "print('Total Stock splits since inception')\n",
        "print(apple.actions['Stock Splits'][apple.actions['Stock Splits']!=0])\n",
        "apple.actions['Stock Splits'][apple.actions['Stock Splits']!=0].product()\n"
      ],
      "execution_count": 87,
      "outputs": [
        {
          "output_type": "stream",
          "text": [
            "Total Dividends:\n",
            "16.234360000000002\n",
            "Total Stock splits since inception\n",
            "Date\n",
            "1987-06-16    2.0\n",
            "2000-06-21    2.0\n",
            "2005-02-28    2.0\n",
            "2014-06-09    7.0\n",
            "Name: Stock Splits, dtype: float64\n"
          ],
          "name": "stdout"
        },
        {
          "output_type": "execute_result",
          "data": {
            "text/plain": [
              "56.0"
            ]
          },
          "metadata": {
            "tags": []
          },
          "execution_count": 87
        }
      ]
    },
    {
      "cell_type": "markdown",
      "metadata": {
        "id": "mQUePSFgdLlw",
        "colab_type": "text"
      },
      "source": [
        "Since, inception Apple has given **16.23 dollars** of dividend to their shareholders. Since incpetion, if you had 1 apple stock it has split **4 times** and today you would be having **56 stocks for 1 stock**. "
      ]
    },
    {
      "cell_type": "code",
      "metadata": {
        "id": "Kr4jbySrfCLP",
        "colab_type": "code",
        "outputId": "3a2b771d-62ef-4980-fb16-293e5760b103",
        "colab": {
          "base_uri": "https://localhost:8080/",
          "height": 102
        }
      },
      "source": [
        "stockpriceAtInception=apple.history(period=\"MAX\")['Close'][0]\n",
        "latestStockPrice=apple.history(period=\"MAX\")['Close'][-1:]\n",
        "stockSplit=apple.actions['Stock Splits'][apple.actions['Stock Splits']!=0].product()\n",
        "\n",
        "profitSinceInception=(latestStockPrice-stockpriceAtInception)*stockSplit\n",
        "profitPercentageSinceInception=profitSinceInception/stockpriceAtInception*100\n",
        "print(\"Stock Price at inception was\",stockpriceAtInception)\n",
        "print(\"Stock Price today is\",latestStockPrice.to_string(index=False))\n",
        "print(\"This is\",profitPercentageSinceInception.to_string(index=False),\"percetage of profit.\")"
      ],
      "execution_count": 122,
      "outputs": [
        {
          "output_type": "stream",
          "text": [
            "Stock Price at inception was 0.4089711308479309\n",
            "Stock Price today is Date\n",
            " 236.410004\n",
            "This is Date\n",
            " 32315.380781 percetage of profit.\n"
          ],
          "name": "stdout"
        }
      ]
    },
    {
      "cell_type": "markdown",
      "metadata": {
        "id": "opdBudb2mYb6",
        "colab_type": "text"
      },
      "source": [
        "If you purchased 1 stock since inception for 0.4 today, you would have 3231538.0781 percetage of profit! Wow!"
      ]
    },
    {
      "cell_type": "markdown",
      "metadata": {
        "id": "0sWlCovPfWob",
        "colab_type": "text"
      },
      "source": [
        "Okay, now the fundamental analysis is done lets try to predict how is the stock going to behave in the coming days. "
      ]
    },
    {
      "cell_type": "code",
      "metadata": {
        "id": "P9X9HToHfnm7",
        "colab_type": "code",
        "colab": {
          "base_uri": "https://localhost:8080/",
          "height": 309
        },
        "outputId": "60c4a01f-1cb1-4714-c382-b4cb858b3e2d"
      },
      "source": [
        "history=apple.history(period=\"MAX\")['Close']\n",
        "import seaborn as sns; sns.set()\n",
        "plt.title('Analysis since inception')\n",
        "history.plot()"
      ],
      "execution_count": 137,
      "outputs": [
        {
          "output_type": "execute_result",
          "data": {
            "text/plain": [
              "<matplotlib.axes._subplots.AxesSubplot at 0x7f68d1d06588>"
            ]
          },
          "metadata": {
            "tags": []
          },
          "execution_count": 137
        },
        {
          "output_type": "display_data",
          "data": {
            "image/png": "[encoded data removed]",
            "text/plain": [
              "<Figure size 432x288 with 1 Axes>"
            ]
          },
          "metadata": {
            "tags": []
          }
        }
      ]
    },
    {
      "cell_type": "markdown",
      "metadata": {
        "id": "rHuRYaKJnFnK",
        "colab_type": "text"
      },
      "source": [
        "So the apple stock price has gained maximum profits since 1998. If you look on the web, that is when Apple Ipods was released and it was spectacular and apple started becoming the industry trend setter. "
      ]
    },
    {
      "cell_type": "code",
      "metadata": {
        "id": "U9ssXxYPg-Iw",
        "colab_type": "code",
        "colab": {
          "base_uri": "https://localhost:8080/",
          "height": 318
        },
        "outputId": "3452598a-9c57-4576-af46-ba2b6a10375b"
      },
      "source": [
        "history=apple.history(period=\"5y\")['Close']\n",
        "import seaborn as sns; sns.set()\n",
        "plt.title('5 years price analysis')\n",
        "history.plot()"
      ],
      "execution_count": 138,
      "outputs": [
        {
          "output_type": "execute_result",
          "data": {
            "text/plain": [
              "<matplotlib.axes._subplots.AxesSubplot at 0x7f68cf37ccf8>"
            ]
          },
          "metadata": {
            "tags": []
          },
          "execution_count": 138
        },
        {
          "output_type": "display_data",
          "data": {
            "image/png": "[encoded data removed]",
            "text/plain": [
              "<Figure size 432x288 with 1 Axes>"
            ]
          },
          "metadata": {
            "tags": []
          }
        }
      ]
    },
    {
      "cell_type": "code",
      "metadata": {
        "id": "qopwnL1moYTe",
        "colab_type": "code",
        "colab": {
          "base_uri": "https://localhost:8080/",
          "height": 318
        },
        "outputId": "4f1a264e-c465-495f-a17f-d872d1953809"
      },
      "source": [
        "history=apple.history(period=\"2y\")['Close']\n",
        "import seaborn as sns; sns.set()\n",
        "plt.title('2 years price analysis')\n",
        "history.plot()"
      ],
      "execution_count": 140,
      "outputs": [
        {
          "output_type": "execute_result",
          "data": {
            "text/plain": [
              "<matplotlib.axes._subplots.AxesSubplot at 0x7f68cf15d898>"
            ]
          },
          "metadata": {
            "tags": []
          },
          "execution_count": 140
        },
        {
          "output_type": "display_data",
          "data": {
            "image/png": "[encoded data removed]",
            "text/plain": [
              "<Figure size 432x288 with 1 Axes>"
            ]
          },
          "metadata": {
            "tags": []
          }
        }
      ]
    },
    {
      "cell_type": "code",
      "metadata": {
        "id": "Qtdfk9RDoiZg",
        "colab_type": "code",
        "colab": {
          "base_uri": "https://localhost:8080/",
          "height": 318
        },
        "outputId": "9f30fd22-43e1-4992-f3f4-317e3c945e5c"
      },
      "source": [
        "history=apple.history(period=\"6mo\")['Close']\n",
        "import seaborn as sns; sns.set()\n",
        "plt.title('6 month price analysis')\n",
        "history.plot()"
      ],
      "execution_count": 145,
      "outputs": [
        {
          "output_type": "execute_result",
          "data": {
            "text/plain": [
              "<matplotlib.axes._subplots.AxesSubplot at 0x7f68cefa3160>"
            ]
          },
          "metadata": {
            "tags": []
          },
          "execution_count": 145
        },
        {
          "output_type": "display_data",
          "data": {
            "image/png": "[encoded data removed]",
            "text/plain": [
              "<Figure size 432x288 with 1 Axes>"
            ]
          },
          "metadata": {
            "tags": []
          }
        }
      ]
    },
    {
      "cell_type": "markdown",
      "metadata": {
        "id": "mKv6Rsvjq8OP",
        "colab_type": "text"
      },
      "source": [
        "#Recurrent Neural network \n",
        "RNNs to capture time series data and predict stock price for the next few day"
      ]
    },
    {
      "cell_type": "code",
      "metadata": {
        "id": "bBasfZzdrL86",
        "colab_type": "code",
        "colab": {
          "base_uri": "https://localhost:8080/",
          "height": 1000
        },
        "outputId": "d0757f6d-ce96-4f04-84c0-a682955e5b97"
      },
      "source": [
        "import numpy\n",
        "import matplotlib.pyplot as plt\n",
        "from pandas import read_csv\n",
        "import math\n",
        "from keras.models import Sequential\n",
        "from keras.layers import Dense\n",
        "from keras.layers import LSTM,GRU\n",
        "from sklearn.preprocessing import MinMaxScaler,RobustScaler,StandardScaler\n",
        "from sklearn.metrics import mean_squared_error\n",
        "from pandas import Series\n",
        "\n",
        "data=apple.history(period=\"3y\")['Close']\n",
        "\n",
        "\n",
        "#data=data.set_index(pd.DatetimeIndex(data['Date']))['Close']\n",
        "def difference(dataset, interval=1):\n",
        "\tdiff = list()\n",
        "\tfor i in range(interval, len(dataset)):\n",
        "\t\tvalue = dataset[i] - dataset[i - interval]\n",
        "\t\tdiff.append(value)\n",
        "\treturn Series(diff)\n",
        "\n",
        "look_back=7\n",
        "#data=difference(data,look_back)\n",
        "\n",
        "\n",
        "#def project(data,look_back):\n",
        "    #convert an array of values into a dataset matrix\n",
        "    \n",
        "\n",
        "def create_dataset(dataset, look_back=1):\n",
        "    dataX, dataY = [], []\n",
        "    for i in range(len(dataset)-look_back-1):\n",
        "        #takes \n",
        "        a = dataset[i:(i+look_back), 0]\n",
        "        dataX.append(a)\n",
        "        dataY.append(dataset[i+look_back, 0])\n",
        "    return numpy.array(dataX), numpy.array(dataY)\n",
        "\n",
        "# fix random seed for reproducibility\n",
        "numpy.random.seed(0)\n",
        "\n",
        "# load the dataset\n",
        "dataframe = data\n",
        "dataset = dataframe.values\n",
        "dataset = dataset.astype('float64').reshape(-1, 1)\n",
        "\n",
        "# normalize the dataset\n",
        "scaler = MinMaxScaler()\n",
        "#scaler=RobustScaler()\n",
        "#scaler=StandardScaler()\n",
        "dataset = scaler.fit_transform(dataset)\n",
        "\n",
        "# split into train and test sets\n",
        "train_size = int(len(dataset) * 0.67)\n",
        "test_size = len(dataset) - train_size\n",
        "train, test = dataset[0:train_size,:], dataset[train_size:len(dataset),:]\n",
        "\n",
        "# reshape into X=t and Y=t+1\n",
        "#look_back = 10\n",
        "trainX, trainY = create_dataset(train, look_back)\n",
        "testX, testY = create_dataset(test, look_back)\n",
        "\n",
        "# reshape input to be [samples, time steps, features]\n",
        "trainX = numpy.reshape(trainX, (trainX.shape[0], 1, trainX.shape[1]))\n",
        "testX = numpy.reshape(testX, (testX.shape[0], 1, testX.shape[1]))\n",
        "# create and fit the LSTM network\n",
        "from keras.layers import Activation, Dense,Dropout\n",
        "model = Sequential()\n",
        "\n",
        "model.add(LSTM(256, return_sequences=True,input_shape=(1, look_back)))\n",
        "model.add(LSTM(256, return_sequences=True,input_shape=(1, look_back)))\n",
        "#model.add(LSTM(256, return_sequences=True,input_shape=(1, look_back)))\n",
        "model.add(LSTM(256))\n",
        "#model.add(LSTM(100, input_shape=(1, look_back)))\n",
        "\n",
        "model.add(Dense(1))\n",
        "import keras\n",
        "from keras import optimizers\n",
        "\n",
        "#keras.optimizers.Adam(lr=0.01, beta_1=0.9, beta_2=0.999, epsilon=None, decay=0.0, amsgrad=False, clipnorm=1)\n",
        "\n",
        "model.compile(loss='mean_squared_error', optimizer='adam')\n",
        "model.fit(trainX, trainY, epochs=50, verbose=1,shuffle=False,batch_size=50)\n",
        "# make predictions\n",
        "trainPredict = model.predict(trainX)\n",
        "testPredict = model.predict(testX)\n",
        "# invert predictions\n",
        "trainPredict = scaler.inverse_transform(trainPredict)\n",
        "trainY = scaler.inverse_transform([trainY])\n",
        "testPredict = scaler.inverse_transform(testPredict)\n",
        "testY = scaler.inverse_transform([testY])\n",
        "# calculate root mean squared error\n",
        "trainScore = math.sqrt(mean_squared_error(trainY[0], trainPredict[:,0]))\n",
        "print('Train Score: %.2f RMSE' % (trainScore))\n",
        "testScore = math.sqrt(mean_squared_error(testY[0], testPredict[:,0]))\n",
        "print('Test Score: %.2f RMSE' % (testScore))\n",
        "predictions = numpy.empty_like(dataset)\n",
        "predictions[:, :] = numpy.nan\n",
        "predictions[look_back:len(trainPredict)+look_back, :] = trainPredict\n",
        "predictions[len(trainPredict)+(look_back*2)+1:len(dataset)-1, :] = testPredict\n",
        "#data=pd.DataFrame(numpy.concatenate((trainPredict[0:len(trainPredict)-look_back-1],testPredict[0:len(testPredict)-look_back-1])),columns=[\"predicted\"])\n",
        "#print('one',data.count())\n",
        "#print('two',dataframe.count())\n",
        "predictionsDF=pd.DataFrame(predictions,columns=[\"predicted\"],index=dataframe.index)\n",
        "ans=pd.concat([dataframe,predictionsDF],axis=1)\n",
        "print( ans,[look_back,trainScore,testScore])"
      ],
      "execution_count": 159,
      "outputs": [
        {
          "output_type": "stream",
          "text": [
            "Epoch 1/50\n",
            "496/496 [==============================] - 5s 11ms/step - loss: 0.1539\n",
            "Epoch 2/50\n",
            "496/496 [==============================] - 1s 1ms/step - loss: 0.0041\n",
            "Epoch 3/50\n",
            "496/496 [==============================] - 1s 1ms/step - loss: 0.0258\n",
            "Epoch 4/50\n",
            "496/496 [==============================] - 1s 1ms/step - loss: 0.0086\n",
            "Epoch 5/50\n",
            "496/496 [==============================] - 1s 1ms/step - loss: 0.0087\n",
            "Epoch 6/50\n",
            "496/496 [==============================] - 1s 1ms/step - loss: 0.0056\n",
            "Epoch 7/50\n",
            "496/496 [==============================] - 1s 1ms/step - loss: 0.0039\n",
            "Epoch 8/50\n",
            "496/496 [==============================] - 1s 1ms/step - loss: 0.0031\n",
            "Epoch 9/50\n",
            "496/496 [==============================] - 1s 1ms/step - loss: 0.0032\n",
            "Epoch 10/50\n",
            "496/496 [==============================] - 1s 1ms/step - loss: 0.0052\n",
            "Epoch 11/50\n",
            "496/496 [==============================] - 1s 1ms/step - loss: 0.0052\n",
            "Epoch 12/50\n",
            "496/496 [==============================] - 1s 1ms/step - loss: 0.0103\n",
            "Epoch 13/50\n",
            "496/496 [==============================] - 1s 1ms/step - loss: 0.0098\n",
            "Epoch 14/50\n",
            "496/496 [==============================] - 1s 1ms/step - loss: 0.0197\n",
            "Epoch 15/50\n",
            "496/496 [==============================] - 1s 1ms/step - loss: 0.0134\n",
            "Epoch 16/50\n",
            "496/496 [==============================] - 1s 1ms/step - loss: 0.0280\n",
            "Epoch 17/50\n",
            "496/496 [==============================] - 1s 1ms/step - loss: 0.0088\n",
            "Epoch 18/50\n",
            "496/496 [==============================] - 1s 1ms/step - loss: 0.0128\n",
            "Epoch 19/50\n",
            "496/496 [==============================] - 1s 1ms/step - loss: 0.0035\n",
            "Epoch 20/50\n",
            "496/496 [==============================] - 1s 1ms/step - loss: 0.0037\n",
            "Epoch 21/50\n",
            "496/496 [==============================] - 1s 1ms/step - loss: 0.0017\n",
            "Epoch 22/50\n",
            "496/496 [==============================] - 1s 1ms/step - loss: 0.0015\n",
            "Epoch 23/50\n",
            "496/496 [==============================] - 1s 1ms/step - loss: 0.0012\n",
            "Epoch 24/50\n",
            "496/496 [==============================] - 1s 1ms/step - loss: 0.0012\n",
            "Epoch 25/50\n",
            "496/496 [==============================] - 1s 1ms/step - loss: 0.0012\n",
            "Epoch 26/50\n",
            "496/496 [==============================] - 1s 1ms/step - loss: 0.0014\n",
            "Epoch 27/50\n",
            "496/496 [==============================] - 1s 1ms/step - loss: 0.0013\n",
            "Epoch 28/50\n",
            "496/496 [==============================] - 1s 1ms/step - loss: 0.0016\n",
            "Epoch 29/50\n",
            "496/496 [==============================] - 1s 1ms/step - loss: 0.0016\n",
            "Epoch 30/50\n",
            "496/496 [==============================] - 1s 1ms/step - loss: 0.0021\n",
            "Epoch 31/50\n",
            "496/496 [==============================] - 1s 1ms/step - loss: 0.0021\n",
            "Epoch 32/50\n",
            "496/496 [==============================] - 1s 1ms/step - loss: 0.0028\n",
            "Epoch 33/50\n",
            "496/496 [==============================] - 1s 1ms/step - loss: 0.0029\n",
            "Epoch 34/50\n",
            "496/496 [==============================] - 1s 1ms/step - loss: 0.0041\n",
            "Epoch 35/50\n",
            "496/496 [==============================] - 1s 1ms/step - loss: 0.0039\n",
            "Epoch 36/50\n",
            "496/496 [==============================] - 1s 1ms/step - loss: 0.0057\n",
            "Epoch 37/50\n",
            "496/496 [==============================] - 1s 1ms/step - loss: 0.0050\n",
            "Epoch 38/50\n",
            "496/496 [==============================] - 1s 1ms/step - loss: 0.0074\n",
            "Epoch 39/50\n",
            "496/496 [==============================] - 1s 1ms/step - loss: 0.0057\n",
            "Epoch 40/50\n",
            "496/496 [==============================] - 1s 1ms/step - loss: 0.0082\n",
            "Epoch 41/50\n",
            "496/496 [==============================] - 1s 1ms/step - loss: 0.0056\n",
            "Epoch 42/50\n",
            "496/496 [==============================] - 1s 1ms/step - loss: 0.0074\n",
            "Epoch 43/50\n",
            "496/496 [==============================] - 1s 1ms/step - loss: 0.0047\n",
            "Epoch 44/50\n",
            "496/496 [==============================] - 1s 1ms/step - loss: 0.0057\n",
            "Epoch 45/50\n",
            "496/496 [==============================] - 1s 1ms/step - loss: 0.0037\n",
            "Epoch 46/50\n",
            "496/496 [==============================] - 1s 1ms/step - loss: 0.0041\n",
            "Epoch 47/50\n",
            "496/496 [==============================] - 1s 1ms/step - loss: 0.0030\n",
            "Epoch 48/50\n",
            "496/496 [==============================] - 1s 1ms/step - loss: 0.0032\n",
            "Epoch 49/50\n",
            "496/496 [==============================] - 1s 1ms/step - loss: 0.0025\n",
            "Epoch 50/50\n",
            "496/496 [==============================] - 1s 1ms/step - loss: 0.0027\n",
            "Train Score: 4.26 RMSE\n",
            "Test Score: 6.51 RMSE\n",
            "                 Close   predicted\n",
            "Date                              \n",
            "2016-10-21  111.147491         NaN\n",
            "2016-10-24  112.148384         NaN\n",
            "2016-10-25  112.720345         NaN\n",
            "2016-10-26  110.184723         NaN\n",
            "2016-10-27  109.126633         NaN\n",
            "2016-10-28  108.402168         NaN\n",
            "2016-10-31  108.230583         NaN\n",
            "2016-11-01  106.276443  111.018829\n",
            "2016-11-02  106.371758  110.281784\n",
            "2016-11-03  105.231598  109.543221\n",
            "2016-11-04  104.283051  108.522545\n",
            "2016-11-07  105.787323  107.737976\n",
            "2016-11-08  106.410103  107.361107\n",
            "2016-11-09  106.237648  107.135780\n",
            "2016-11-10  103.277008  106.972916\n",
            "2016-11-11  103.890221  106.498917\n",
            "2016-11-14  101.284096  106.184479\n",
            "2016-11-15  102.625488  105.460014\n",
            "2016-11-16  105.384895  105.269196\n",
            "2016-11-17  105.346558  105.287186\n",
            "2016-11-18  105.451973  105.247276\n",
            "2016-11-21  107.052055  105.317947\n",
            "2016-11-22  107.119118  105.877716\n",
            "2016-11-23  106.572975  106.313782\n",
            "2016-11-25  107.109535  106.974609\n",
            "2016-11-28  106.898750  107.526741\n",
            "2016-11-29  106.793365  107.680824\n",
            "2016-11-30  105.892700  107.859009\n",
            "2016-12-01  104.905830  107.847054\n",
            "2016-12-02  105.298676  107.513321\n",
            "...                ...         ...\n",
            "2019-09-09  214.169998  205.542816\n",
            "2019-09-10  216.699997  206.734802\n",
            "2019-09-11  223.589996  207.771317\n",
            "2019-09-12  223.089996  209.858673\n",
            "2019-09-13  218.750000  211.992386\n",
            "2019-09-16  219.899994  213.104614\n",
            "2019-09-17  220.699997  213.852753\n",
            "2019-09-18  222.770004  214.549957\n",
            "2019-09-19  220.960007  215.600220\n",
            "2019-09-20  217.729996  216.026169\n",
            "2019-09-23  218.720001  215.283585\n",
            "2019-09-24  217.679993  214.765121\n",
            "2019-09-25  221.029999  214.467484\n",
            "2019-09-26  219.889999  214.731934\n",
            "2019-09-27  218.820007  214.612671\n",
            "2019-09-30  223.970001  214.232010\n",
            "2019-10-01  224.589996  214.792908\n",
            "2019-10-02  218.960007  215.612198\n",
            "2019-10-03  220.820007  215.589096\n",
            "2019-10-04  227.009995  215.963852\n",
            "2019-10-07  227.059998  216.730896\n",
            "2019-10-08  224.399994  217.663986\n",
            "2019-10-09  227.029999  218.378906\n",
            "2019-10-10  230.089996  218.831711\n",
            "2019-10-11  236.210007  219.549927\n",
            "2019-10-14  235.869995  221.819977\n",
            "2019-10-15  235.320007  223.642380\n",
            "2019-10-16  234.369995  224.751572\n",
            "2019-10-17  235.279999  225.541077\n",
            "2019-10-18  236.410004         NaN\n",
            "\n",
            "[753 rows x 2 columns] [7, 4.256240830438758, 6.506423928549112]\n"
          ],
          "name": "stdout"
        }
      ]
    },
    {
      "cell_type": "markdown",
      "metadata": {
        "id": "VAtgdnszusJS",
        "colab_type": "text"
      },
      "source": [
        "The above is a LSTM RNN to predict the stock price of Apple for past X runs. It has been trained on last 67% of the runs and tested on the new runs. "
      ]
    },
    {
      "cell_type": "markdown",
      "metadata": {
        "id": "UmOzkfp7vGxv",
        "colab_type": "text"
      },
      "source": [
        "# Observations\n",
        "### Lookback \n",
        "The lookback parameter is nothing but how much past data will the model be given to predict todays price, one can play around and see the accuracy of the model. for various dates. \n",
        "My observation is if you want to predict short term price say, for the next week or so, lookback < 5-20 gives good performance. That seems pretty obvious too, looks like the model is doing nothing but weighted sum of past runs. \n",
        "The intresting thing is, the stock price over a longer run, say next 3 months  you need to give past 200-300 days of data and it will actually give you the stock price based on what its value should be. (Its an algorithm purely based on time series and thats why it doesnt take into account any sentiments etc) Why is this important? Say there was a rumour about Apple that some analyst downgraded stocks rating, investers would start selling but the value of the company is unchanged, so the stocks are bound to rise if you take into account the long run. Adding to that this model can be used to leverage many temporal patterns such as stock rises during christmas because may be the sales for iphone is always high. Etc. This is a temporal pattern and having lookback to 365 captures such details. \n",
        "\n",
        "### MoreFeatures\n",
        "I think adding earnings date, iphone sales date and apple launch date can help in analysing more about the common patterns to build strategies to profit from the stock price. \n",
        "\n"
      ]
    }
  ]
}